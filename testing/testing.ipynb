{
 "cells": [
  {
   "cell_type": "markdown",
   "metadata": {},
   "source": [
    "# Imports"
   ]
  },
  {
   "cell_type": "code",
   "execution_count": null,
   "metadata": {
    "execution": {
     "iopub.execute_input": "2025-04-11T09:55:07.102709Z",
     "iopub.status.busy": "2025-04-11T09:55:07.102351Z",
     "iopub.status.idle": "2025-04-11T09:55:16.534900Z",
     "shell.execute_reply": "2025-04-11T09:55:16.533789Z",
     "shell.execute_reply.started": "2025-04-11T09:55:07.102681Z"
    },
    "trusted": true
   },
   "outputs": [],
   "source": [
    "!git clone https://github.com/mebn/ultralytics.git\n",
    "!cd ultralytics && git pull && cd ..\n",
    "\n",
    "import os\n",
    "import torch\n",
    "import torchvision\n",
    "import torch.nn as nn\n",
    "from torchvision.models import efficientnet_b0, EfficientNet_B0_Weights\n",
    "from torchvision.models.feature_extraction import create_feature_extractor\n",
    "import cv2\n",
    "import matplotlib.pyplot as plt\n",
    "\n",
    "import sys\n",
    "sys.path.append(\"/kaggle/working/ultralytics\")\n",
    "from ultralytics import YOLO"
   ]
  },
  {
   "cell_type": "markdown",
   "metadata": {},
   "source": [
    "# Replacing backbone and initialization"
   ]
  },
  {
   "cell_type": "markdown",
   "metadata": {},
   "source": [
    "# Data"
   ]
  },
  {
   "cell_type": "code",
   "execution_count": null,
   "metadata": {
    "execution": {
     "iopub.execute_input": "2025-04-11T09:55:48.314555Z",
     "iopub.status.busy": "2025-04-11T09:55:48.314110Z",
     "iopub.status.idle": "2025-04-11T09:55:48.319706Z",
     "shell.execute_reply": "2025-04-11T09:55:48.318866Z",
     "shell.execute_reply.started": "2025-04-11T09:55:48.314517Z"
    },
    "trusted": true
   },
   "outputs": [],
   "source": [
    "data_file = \"/kaggle/working/data.yaml\"\n",
    "\n",
    "\n",
    "with open(data_file, \"w\") as f:\n",
    "    f.write(\"\"\"test: /kaggle/input/seadronessee-yolo-500/seaDronesSee_yolo/images/test\n",
    "nc: 1\n",
    "names: [\"human\"]\"\"\")"
   ]
  },
  {
   "cell_type": "markdown",
   "metadata": {},
   "source": [
    "# Testing"
   ]
  },
  {
   "cell_type": "code",
   "execution_count": null,
   "metadata": {
    "execution": {
     "iopub.execute_input": "2025-04-11T10:42:33.505460Z",
     "iopub.status.busy": "2025-04-11T10:42:33.505121Z",
     "iopub.status.idle": "2025-04-11T10:42:33.510203Z",
     "shell.execute_reply": "2025-04-11T10:42:33.509244Z",
     "shell.execute_reply.started": "2025-04-11T10:42:33.505423Z"
    },
    "trusted": true
   },
   "outputs": [],
   "source": [
    "def show_img_with_boxes(res):\n",
    "    img = res[0].plot()\n",
    "    plt.imshow(cv2.cvtColor(img, cv2.COLOR_BGR2RGB))\n",
    "    plt.axis(\"off\")\n",
    "    plt.show()\n",
    "\n",
    "\n",
    "model = YOLO(\"/kaggle/working/model/weights/best.pt\")"
   ]
  },
  {
   "cell_type": "code",
   "execution_count": null,
   "metadata": {},
   "outputs": [],
   "source": [
    "img = \"/kaggle/input/seadronessee-yolo-500/seaDronesSee_yolo/images/test/10209.jpg\"\n",
    "results = model(img)\n",
    "show_img_with_boxes(results)"
   ]
  },
  {
   "cell_type": "code",
   "execution_count": null,
   "metadata": {},
   "outputs": [],
   "source": [
    "metrics = model.val(\n",
    "    data=data_file,\n",
    "    split=\"test\"\n",
    ")\n",
    "\n",
    "print(metrics)"
   ]
  }
 ],
 "metadata": {
  "kaggle": {
   "accelerator": "gpu",
   "dataSources": [
    {
     "datasetId": 7093506,
     "sourceId": 11338838,
     "sourceType": "datasetVersion"
    }
   ],
   "dockerImageVersionId": 30919,
   "isGpuEnabled": true,
   "isInternetEnabled": true,
   "language": "python",
   "sourceType": "notebook"
  },
  "kernelspec": {
   "display_name": "Python 3",
   "language": "python",
   "name": "python3"
  },
  "language_info": {
   "codemirror_mode": {
    "name": "ipython",
    "version": 3
   },
   "file_extension": ".py",
   "mimetype": "text/x-python",
   "name": "python",
   "nbconvert_exporter": "python",
   "pygments_lexer": "ipython3",
   "version": "3.10.12"
  }
 },
 "nbformat": 4,
 "nbformat_minor": 4
}
